{
 "cells": [
  {
   "cell_type": "code",
   "execution_count": 3,
   "metadata": {
    "collapsed": true
   },
   "outputs": [],
   "source": [
    "import os\n",
    "import csv\n",
    "import calendar\n",
    "import pandas as pd"
   ]
  },
  {
   "cell_type": "code",
   "execution_count": 4,
   "metadata": {},
   "outputs": [
    {
     "data": {
      "text/plain": [
       "ID                           0\n",
       "Case Number                  4\n",
       "Date                         0\n",
       "Block                        0\n",
       "IUCR                         0\n",
       "Primary Type                 0\n",
       "Description                  0\n",
       "Location Description      4134\n",
       "Arrest                       0\n",
       "Domestic                     0\n",
       "Beat                         0\n",
       "District                    47\n",
       "Ward                    614854\n",
       "Community Area          616029\n",
       "FBI Code                     0\n",
       "X Coordinate             60529\n",
       "Y Coordinate             60529\n",
       "Year                         0\n",
       "Updated On                   0\n",
       "Latitude                 60529\n",
       "Longitude                60529\n",
       "Location                 60529\n",
       "dtype: int64"
      ]
     },
     "execution_count": 4,
     "metadata": {},
     "output_type": "execute_result"
    }
   ],
   "source": [
    "filename = \"./data/Chicago_Crimes_2001_2018.csv\"\n",
    "#filename = \"./data/data_small.csv\"              # Initial test on small dataset\n",
    "Chicago_area_mapping_filename = \"./data/Chicago_Area_Data.xlsx\"\n",
    "tp = pd.read_csv(filename, low_memory=False, iterator=True, chunksize=10000)  # Read CSV in Chunksize to avoid low memory\n",
    "data = pd.concat(tp, ignore_index=True)                                       # Concatenate the read dataframes in Chunks\n",
    "NullSumDF = data.isnull().sum()  # Check is there are Null values in data\n",
    "NullSumDF"
   ]
  },
  {
   "cell_type": "code",
   "execution_count": 5,
   "metadata": {},
   "outputs": [
    {
     "name": "stdout",
     "output_type": "stream",
     "text": [
      "totalRows:  6752229\n",
      "% of Numm values:                         percent               colName\n",
      "ID                    0.000000                    ID\n",
      "Case Number           0.000059           Case Number\n",
      "Date                  0.000000                  Date\n",
      "Block                 0.000000                 Block\n",
      "IUCR                  0.000000                  IUCR\n",
      "Primary Type          0.000000          Primary Type\n",
      "Description           0.000000           Description\n",
      "Location Description  0.061224  Location Description\n",
      "Arrest                0.000000                Arrest\n",
      "Domestic              0.000000              Domestic\n",
      "Beat                  0.000000                  Beat\n",
      "District              0.000696              District\n",
      "Ward                  9.105941                  Ward\n",
      "Community Area        9.123343        Community Area\n",
      "FBI Code              0.000000              FBI Code\n",
      "X Coordinate          0.896430          X Coordinate\n",
      "Y Coordinate          0.896430          Y Coordinate\n",
      "Year                  0.000000                  Year\n",
      "Updated On            0.000000            Updated On\n",
      "Latitude              0.896430              Latitude\n",
      "Longitude             0.896430             Longitude\n",
      "Location              0.896430              Location\n"
     ]
    }
   ],
   "source": [
    "# To check percentage of Null data in columns\n",
    "NullSumDF=data.isnull().sum()\n",
    "totalRows=len(data)\n",
    "print(\"totalRows: \",totalRows)\n",
    "perDframe = pd.DataFrame((NullSumDF/totalRows)*100, columns=['percent'])\n",
    "perDframe['colName'] = perDframe.index\n",
    "print(\"% of Numm values: \",perDframe)"
   ]
  },
  {
   "cell_type": "code",
   "execution_count": 6,
   "metadata": {
    "collapsed": true
   },
   "outputs": [],
   "source": [
    "data.dropna(subset=['Case Number', 'Ward','District', 'Latitude', 'Community Area', 'Location Description'], how='any', inplace=True)\n",
    "data = data.sort_values('Date')  # Sort via Date\n",
    "os.remove(filename)   # Remove the file. Processed/Cleaned data is in dataframe.\n",
    "data.to_csv(filename) # Write the data from dataframe back into file."
   ]
  },
  {
   "cell_type": "code",
   "execution_count": 7,
   "metadata": {
    "collapsed": true
   },
   "outputs": [],
   "source": [
    "# Loop through the dataset and add an additional columns like Community name, Month etc.\n",
    "xl_data = pd.ExcelFile(Chicago_area_mapping_filename)   # Read the excel file. \n",
    "                                                        # This file contains the mapping between Community code and Community name.\n",
    "# print(xl_data.sheet_names[0])\n",
    "df_area = xl_data.parse(xl_data.sheet_names[0])         # Load the mappig data into the dataframe.\n",
    "filename_temp = \"./data/Chicago_Crimes_2001_2018_temp.csv\"   # Temporary file to hold updated data.\n",
    "\n",
    "header = ['', 'ID', 'Case Number', 'Date', 'Block', 'IUCR', 'Primary Type', 'Description', 'Location Description',\n",
    "              'Arrest','Domestic', 'Beat', 'District', 'Ward', 'Community Area', 'Community Area Name', 'FBI Code',\n",
    "              'X Coordinate', 'Y Coordinate', 'Year', 'Month Code', 'Month Name', 'Updated On', 'Latitude', 'Longitude', \n",
    "              'Location']"
   ]
  },
  {
   "cell_type": "code",
   "execution_count": 8,
   "metadata": {},
   "outputs": [
    {
     "name": "stdout",
     "output_type": "stream",
     "text": [
      "Generating Data...\n",
      "Done\n"
     ]
    }
   ],
   "source": [
    "with open(filename_temp, 'w', newline='', encoding='utf8') as tempfile:     # Open file (empty) to write data\n",
    "      writer = csv.DictWriter(tempfile, fieldnames=header)\n",
    "      writer.writeheader()\n",
    "      with open(filename, newline='') as csvfile:                       # Open data file to read data\n",
    "          print(\"Generating Data...\")\n",
    "          reader = csv.DictReader(csvfile);\n",
    "          for row in reader:                                            # Loop through each of the rows in the file\n",
    "              area_code = int((row['Community Area']).split(\".\")[0])    # Get Community Code\n",
    "              area_name = df_area.iloc[area_code, 0]                    # Get the Community name corresponding to Community Code\n",
    "  \n",
    "              month_code = (row['Date']).split(\"/\")[0]                  # Get month code\n",
    "              month_name = calendar.month_name[int(month_code)]         # Get month name\n",
    "              # Write all the data into the temp file.\n",
    "              writer.writerow({'': '', 'ID': row['ID'], 'Case Number': row['Case Number'], 'Date': row['Date'],\n",
    "                               'Block': row['Block'], 'IUCR': row['IUCR'],\n",
    "                               'Primary Type': row['Primary Type'], 'Description': row['Description'],\n",
    "                               'Location Description': row['Location Description'], 'Arrest': row['Arrest'],\n",
    "                               'Domestic': row['Domestic'],\n",
    "                               'Beat': row['Beat'], 'District': row['District'], 'Ward': row['Ward'],\n",
    "                               'Community Area': row['Community Area'], 'Community Area Name': area_name,\n",
    "                               'FBI Code': row['FBI Code'], 'X Coordinate': row['X Coordinate'],\n",
    "                               'Y Coordinate': row['Y Coordinate'], 'Year': row['Year'], 'Month Name': month_name,\n",
    "                               'Month Code': int(month_code),\n",
    "                               'Updated On': row['Updated On'], 'Latitude': row['Latitude'],\n",
    "                               'Longitude': row['Longitude'], 'Location': row['Location']})\n",
    "os.remove(filename)\n",
    "os.rename(filename_temp, filename)  # Rename the temp file to origional file. The temp file contained extra data/columns.\n",
    "print(\"Done\")\n",
    "csvfile.close()\n",
    "tempfile.close()"
   ]
  },
  {
   "cell_type": "code",
   "execution_count": null,
   "metadata": {
    "collapsed": true
   },
   "outputs": [],
   "source": [
    "filename = \"./data/data_small.csv\"\n",
    "filename_poverty = \"./data/Chicago_poverty_and_crime_2004_2013.csv\"\n",
    "df_poverty = pd.read_csv(filename_poverty, header=0)\n",
    "\n",
    "header = ['', 'ID', 'Case Number', 'Date', 'Block', 'IUCR', 'Primary Type', 'Description', 'Location Description',\n",
    "              'Arrest','Domestic', 'Beat', 'District', 'Ward', 'Community Area', 'Community Area Name', \n",
    "              'Assault (Homicide)', 'Firearm-related', \n",
    "              'FBI Code',\n",
    "              'X Coordinate', 'Y Coordinate', 'Year', 'Month Code', 'Month Name', 'Updated On', 'Latitude', 'Longitude', \n",
    "              'Location']\n",
    "\n",
    "filename_temp = \"./data/Chicago_Area_crime_poverty_2004_2013.csv\"\n",
    "with open(filename_temp, 'w', newline='', encoding='utf8') as tempfile:     # Open file (empty) to write data\n",
    "      writer = csv.DictWriter(tempfile, fieldnames=header)\n",
    "      writer.writeheader()\n",
    "      with open(filename, newline='') as csvfile:                       # Open data file to read data\n",
    "          print(\"Generating Data...\")\n",
    "          reader = csv.DictReader(csvfile);\n",
    "          for row in reader:                                            # Loop through each of the rows in the file\n",
    "              area_code = int((row['Community Area']).split(\".\")[0])    # Get Community Code\n",
    "              area_name = df_area.iloc[area_code, 0]                    # Get the Community name corresponding to Community Code\n",
    "  \n",
    "              month_code = (row['Date']).split(\"/\")[0]                  # Get month code\n",
    "              month_name = calendar.month_name[int(month_code)]         # Get month name\n",
    "              # Write all the data into the temp file.\n",
    "              writer.writerow({'': '', 'ID': row['ID'], 'Case Number': row['Case Number'], 'Date': row['Date'],\n",
    "                               'Block': row['Block'], 'IUCR': row['IUCR'],\n",
    "                               'Primary Type': row['Primary Type'], 'Description': row['Description'],\n",
    "                               'Location Description': row['Location Description'], 'Arrest': row['Arrest'],\n",
    "                               'Domestic': row['Domestic'],\n",
    "                               'Beat': row['Beat'], 'District': row['District'], 'Ward': row['Ward'],\n",
    "                               'Community Area': row['Community Area'], 'Community Area Name': area_name,\n",
    "                               'FBI Code': row['FBI Code'], 'X Coordinate': row['X Coordinate'],\n",
    "                               'Y Coordinate': row['Y Coordinate'], 'Year': row['Year'], 'Month Name': month_name,\n",
    "                               'Month Code': int(month_code),\n",
    "                               'Updated On': row['Updated On'], 'Latitude': row['Latitude'],\n",
    "                               'Longitude': row['Longitude'], 'Location': row['Location']})\n",
    "os.remove(filename)\n",
    "os.rename(filename_temp, filename)  # Rename the temp file to origional file. The temp file contained extra data/columns.\n",
    "print(\"Done\")\n",
    "csvfile.close()\n",
    "tempfile.close()"
   ]
  }
 ],
 "metadata": {
  "kernelspec": {
   "display_name": "Python 3",
   "language": "python",
   "name": "python3"
  },
  "language_info": {
   "codemirror_mode": {
    "name": "ipython",
    "version": 3
   },
   "file_extension": ".py",
   "mimetype": "text/x-python",
   "name": "python",
   "nbconvert_exporter": "python",
   "pygments_lexer": "ipython3",
   "version": "3.6.3"
  }
 },
 "nbformat": 4,
 "nbformat_minor": 2
}
